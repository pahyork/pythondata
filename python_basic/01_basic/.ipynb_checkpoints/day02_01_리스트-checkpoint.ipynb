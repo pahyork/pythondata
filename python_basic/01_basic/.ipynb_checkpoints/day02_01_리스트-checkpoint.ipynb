{
 "cells": [
  {
   "cell_type": "code",
   "execution_count": 1,
   "id": "5b25eb2e-cbae-4763-8a2f-6f31b1ddbaa9",
   "metadata": {},
   "outputs": [],
   "source": [
    "odd = [1,3,5,7,9]\n",
    "# 리스트 []"
   ]
  },
  {
   "cell_type": "code",
   "execution_count": 2,
   "id": "61c0beab-9bff-4c69-be0a-e8b0654be0df",
   "metadata": {},
   "outputs": [
    {
     "name": "stdout",
     "output_type": "stream",
     "text": [
      "1\n",
      "3\n",
      "5\n",
      "7\n",
      "9\n"
     ]
    }
   ],
   "source": [
    "for i in odd:\n",
    "    print(i)"
   ]
  },
  {
   "cell_type": "code",
   "execution_count": 3,
   "id": "b99d450a-0ba3-480e-98b4-9f9c9d3439ed",
   "metadata": {},
   "outputs": [],
   "source": [
    "a = [1,2,3,['a','b','c']]"
   ]
  },
  {
   "cell_type": "code",
   "execution_count": 4,
   "id": "ecb4bef2-cd36-4dc3-9902-bbaf7a46e339",
   "metadata": {},
   "outputs": [
    {
     "data": {
      "text/plain": [
       "'b'"
      ]
     },
     "execution_count": 4,
     "metadata": {},
     "output_type": "execute_result"
    }
   ],
   "source": [
    "a[3][1]"
   ]
  },
  {
   "cell_type": "code",
   "execution_count": 5,
   "id": "4e176783-b051-401f-b5f3-00034af50477",
   "metadata": {},
   "outputs": [
    {
     "data": {
      "text/plain": [
       "[2, 3]"
      ]
     },
     "execution_count": 5,
     "metadata": {},
     "output_type": "execute_result"
    }
   ],
   "source": [
    "a[1:3]"
   ]
  },
  {
   "cell_type": "code",
   "execution_count": 6,
   "id": "4bc912e3-9a19-4a89-b8f3-657247bbf831",
   "metadata": {},
   "outputs": [
    {
     "data": {
      "text/plain": [
       "4"
      ]
     },
     "execution_count": 6,
     "metadata": {},
     "output_type": "execute_result"
    }
   ],
   "source": [
    "len(a)"
   ]
  },
  {
   "cell_type": "code",
   "execution_count": 7,
   "id": "3644d105-2c62-42b0-8e1e-0d854ad6a9e3",
   "metadata": {},
   "outputs": [],
   "source": [
    "del a[1]"
   ]
  },
  {
   "cell_type": "code",
   "execution_count": 8,
   "id": "07b6dc15-464c-45a6-9f79-3eca25065459",
   "metadata": {},
   "outputs": [
    {
     "data": {
      "text/plain": [
       "[1, 3, ['a', 'b', 'c']]"
      ]
     },
     "execution_count": 8,
     "metadata": {},
     "output_type": "execute_result"
    }
   ],
   "source": [
    "a"
   ]
  },
  {
   "cell_type": "code",
   "execution_count": 9,
   "id": "caa051a1-7b84-46cb-9ea5-85d2b0588368",
   "metadata": {},
   "outputs": [
    {
     "data": {
      "text/plain": [
       "3"
      ]
     },
     "execution_count": 9,
     "metadata": {},
     "output_type": "execute_result"
    }
   ],
   "source": [
    "len(a)"
   ]
  },
  {
   "cell_type": "code",
   "execution_count": 10,
   "id": "ab9d9bfe-f2a2-441b-8813-f88d78035e3c",
   "metadata": {},
   "outputs": [],
   "source": [
    "del a\n",
    "# 전체 삭제"
   ]
  },
  {
   "cell_type": "code",
   "execution_count": 13,
   "id": "a22a49be-e2f8-4e9f-a278-2d5a4b1e4a79",
   "metadata": {},
   "outputs": [],
   "source": [
    "a = [1,4,3,2]"
   ]
  },
  {
   "cell_type": "code",
   "execution_count": 14,
   "id": "0cec0d88-5276-4e8d-a3e6-36e8e68822af",
   "metadata": {},
   "outputs": [],
   "source": [
    "a.sort()"
   ]
  },
  {
   "cell_type": "code",
   "execution_count": 15,
   "id": "52c3c742-d924-4114-866f-397206530d52",
   "metadata": {},
   "outputs": [
    {
     "data": {
      "text/plain": [
       "[1, 2, 3, 4]"
      ]
     },
     "execution_count": 15,
     "metadata": {},
     "output_type": "execute_result"
    }
   ],
   "source": [
    "a"
   ]
  },
  {
   "cell_type": "code",
   "execution_count": 16,
   "id": "31cb37c0-87a1-480d-b6f7-980125ad3ff9",
   "metadata": {},
   "outputs": [],
   "source": [
    "a = [1,4,3,2]"
   ]
  },
  {
   "cell_type": "code",
   "execution_count": 17,
   "id": "14e6b83f-fcc7-4d17-8a11-d2e453a0e6a0",
   "metadata": {},
   "outputs": [],
   "source": [
    "a.reverse()"
   ]
  },
  {
   "cell_type": "code",
   "execution_count": 18,
   "id": "ab7e1c59-cbbc-4505-bd96-207202487fd9",
   "metadata": {},
   "outputs": [
    {
     "data": {
      "text/plain": [
       "[2, 3, 4, 1]"
      ]
     },
     "execution_count": 18,
     "metadata": {},
     "output_type": "execute_result"
    }
   ],
   "source": [
    "a"
   ]
  },
  {
   "cell_type": "code",
   "execution_count": 19,
   "id": "0ad3b8cf-32cc-4987-9b87-37a4005e4923",
   "metadata": {},
   "outputs": [
    {
     "ename": "ValueError",
     "evalue": "0 is not in list",
     "output_type": "error",
     "traceback": [
      "\u001b[1;31m---------------------------------------------------------------------------\u001b[0m",
      "\u001b[1;31mValueError\u001b[0m                                Traceback (most recent call last)",
      "Input \u001b[1;32mIn [19]\u001b[0m, in \u001b[0;36m<cell line: 1>\u001b[1;34m()\u001b[0m\n\u001b[1;32m----> 1\u001b[0m \u001b[43ma\u001b[49m\u001b[38;5;241;43m.\u001b[39;49m\u001b[43mindex\u001b[49m\u001b[43m(\u001b[49m\u001b[38;5;241;43m0\u001b[39;49m\u001b[43m)\u001b[49m\n",
      "\u001b[1;31mValueError\u001b[0m: 0 is not in list"
     ]
    }
   ],
   "source": [
    "a.index(0)"
   ]
  },
  {
   "cell_type": "code",
   "execution_count": 20,
   "id": "151e503e-7118-4381-a320-50ddd47e9605",
   "metadata": {},
   "outputs": [],
   "source": [
    "a.insert(0,0)"
   ]
  },
  {
   "cell_type": "code",
   "execution_count": 21,
   "id": "5f05286e-45e5-4bae-b591-c7032be5c868",
   "metadata": {},
   "outputs": [
    {
     "data": {
      "text/plain": [
       "[0, 2, 3, 4, 1]"
      ]
     },
     "execution_count": 21,
     "metadata": {},
     "output_type": "execute_result"
    }
   ],
   "source": [
    "a"
   ]
  },
  {
   "cell_type": "code",
   "execution_count": 22,
   "id": "91c8934d-217e-4bd6-b87c-4bc83cf842fc",
   "metadata": {},
   "outputs": [
    {
     "data": {
      "text/plain": [
       "[0, 2, 3, 4]"
      ]
     },
     "execution_count": 22,
     "metadata": {},
     "output_type": "execute_result"
    }
   ],
   "source": [
    "#del a[2]\n",
    "a.remove(1)\n",
    "a"
   ]
  },
  {
   "cell_type": "code",
   "execution_count": 23,
   "id": "746d4fbb-c922-43ec-bddf-9d52d1348373",
   "metadata": {},
   "outputs": [
    {
     "data": {
      "text/plain": [
       "4"
      ]
     },
     "execution_count": 23,
     "metadata": {},
     "output_type": "execute_result"
    }
   ],
   "source": [
    "a.pop()"
   ]
  },
  {
   "cell_type": "code",
   "execution_count": 24,
   "id": "8369a518-57a6-4043-b028-307e4c9ae06a",
   "metadata": {},
   "outputs": [
    {
     "data": {
      "text/plain": [
       "[0, 2, 3]"
      ]
     },
     "execution_count": 24,
     "metadata": {},
     "output_type": "execute_result"
    }
   ],
   "source": [
    "a"
   ]
  },
  {
   "cell_type": "code",
   "execution_count": 25,
   "id": "97790f15-dd2c-4ec0-a9c2-5368bd175143",
   "metadata": {},
   "outputs": [],
   "source": [
    "a = [1,2,3,1]"
   ]
  },
  {
   "cell_type": "code",
   "execution_count": 26,
   "id": "3eb81915-bab9-42fb-b29c-37bbeae93c62",
   "metadata": {},
   "outputs": [
    {
     "data": {
      "text/plain": [
       "[1, 2, 3, 1]"
      ]
     },
     "execution_count": 26,
     "metadata": {},
     "output_type": "execute_result"
    }
   ],
   "source": [
    "a"
   ]
  },
  {
   "cell_type": "code",
   "execution_count": 28,
   "id": "128f55dd-4146-4ea9-b86e-d5d2cd510df7",
   "metadata": {},
   "outputs": [
    {
     "data": {
      "text/plain": [
       "2"
      ]
     },
     "execution_count": 28,
     "metadata": {},
     "output_type": "execute_result"
    }
   ],
   "source": [
    "a.count(1)\n",
    "# 1이라는 값이 몇 개가 있는지 세어라"
   ]
  },
  {
   "cell_type": "code",
   "execution_count": 29,
   "id": "0df53bc4-c83c-4d11-ae9f-198ccd6fd97e",
   "metadata": {},
   "outputs": [
    {
     "data": {
      "text/plain": [
       "0"
      ]
     },
     "execution_count": 29,
     "metadata": {},
     "output_type": "execute_result"
    }
   ],
   "source": [
    "a.count(0)"
   ]
  },
  {
   "cell_type": "code",
   "execution_count": 31,
   "id": "194d6e39-3b89-4b4d-bde8-09f435221fa5",
   "metadata": {},
   "outputs": [],
   "source": [
    "a = [1,2,3]\n",
    "b = [4,5]\n",
    "a.extend(b)"
   ]
  },
  {
   "cell_type": "code",
   "execution_count": 32,
   "id": "ddb071ba-b449-4e05-90d3-98f2227e47a7",
   "metadata": {},
   "outputs": [
    {
     "data": {
      "text/plain": [
       "[1, 2, 3, 4, 5]"
      ]
     },
     "execution_count": 32,
     "metadata": {},
     "output_type": "execute_result"
    }
   ],
   "source": [
    "a"
   ]
  },
  {
   "cell_type": "code",
   "execution_count": 33,
   "id": "12849d30-9722-4952-989c-d779fe5700c6",
   "metadata": {},
   "outputs": [
    {
     "data": {
      "text/plain": [
       "[1, 2, 3, 4, 5, 4, 5]"
      ]
     },
     "execution_count": 33,
     "metadata": {},
     "output_type": "execute_result"
    }
   ],
   "source": [
    "a + b"
   ]
  },
  {
   "cell_type": "code",
   "execution_count": 35,
   "id": "8f0f2978-d19e-47d7-b4f6-24f71f28e9f2",
   "metadata": {},
   "outputs": [],
   "source": [
    "a.append(b)"
   ]
  },
  {
   "cell_type": "code",
   "execution_count": 36,
   "id": "773e0fd8-9756-49c6-87fd-944551d5f6c3",
   "metadata": {},
   "outputs": [
    {
     "data": {
      "text/plain": [
       "[1, 2, 3, 4, 5, [4, 5], [4, 5]]"
      ]
     },
     "execution_count": 36,
     "metadata": {},
     "output_type": "execute_result"
    }
   ],
   "source": [
    "a"
   ]
  },
  {
   "cell_type": "markdown",
   "id": "18e66aff-23ce-4d7c-b2d4-63ad56644d4b",
   "metadata": {},
   "source": [
    "타자게임\n",
    "데이터 저장 : word = []\n",
    "word 리스트에서 문제를 추출하여 제출하면 맞추는 게임\n",
    "- 한 번 출제된 문제는 맞출 때까지 반복\n",
    "- 전체 5문제 출제, 다 맞추면 종료"
   ]
  },
  {
   "cell_type": "code",
   "execution_count": 42,
   "id": "b766f734-d6b8-4a54-be04-629cc7cf497a",
   "metadata": {},
   "outputs": [],
   "source": [
    "import random"
   ]
  },
  {
   "cell_type": "code",
   "execution_count": 43,
   "id": "5ad6d217-356a-4c61-bfb3-3d8790403aeb",
   "metadata": {},
   "outputs": [
    {
     "data": {
      "text/plain": [
       "'고양이'"
      ]
     },
     "execution_count": 43,
     "metadata": {},
     "output_type": "execute_result"
    }
   ],
   "source": [
    "word = ['cat','dog','강아지','고양이']\n",
    "random.choice(word)"
   ]
  },
  {
   "cell_type": "code",
   "execution_count": 58,
   "id": "876fd05c-e898-4052-a2d1-d5efb9064e54",
   "metadata": {},
   "outputs": [
    {
     "name": "stdout",
     "output_type": "stream",
     "text": [
      "1번\n",
      "dog\n"
     ]
    },
    {
     "name": "stdin",
     "output_type": "stream",
     "text": [
      ">>> dog\n"
     ]
    },
    {
     "name": "stdout",
     "output_type": "stream",
     "text": [
      "통과!\n",
      "2번\n",
      "dog\n"
     ]
    },
    {
     "name": "stdin",
     "output_type": "stream",
     "text": [
      ">>> dog\n"
     ]
    },
    {
     "name": "stdout",
     "output_type": "stream",
     "text": [
      "통과!\n",
      "3번\n",
      "cat\n"
     ]
    },
    {
     "name": "stdin",
     "output_type": "stream",
     "text": [
      ">>> cat\n"
     ]
    },
    {
     "name": "stdout",
     "output_type": "stream",
     "text": [
      "통과!\n",
      "4번\n",
      "cat\n"
     ]
    },
    {
     "name": "stdin",
     "output_type": "stream",
     "text": [
      ">>> cat\n"
     ]
    },
    {
     "name": "stdout",
     "output_type": "stream",
     "text": [
      "통과!\n",
      "5번\n",
      "강아지\n"
     ]
    },
    {
     "name": "stdin",
     "output_type": "stream",
     "text": [
      ">>> 강아지\n"
     ]
    },
    {
     "name": "stdout",
     "output_type": "stream",
     "text": [
      "통과!\n",
      "5문제 완료!!\n"
     ]
    }
   ],
   "source": [
    "n = 1\n",
    "quiz = random.choice(word)\n",
    "while n <= 5:\n",
    "    print(f'{n}번')\n",
    "    print(quiz)\n",
    "    result = input('>>>')\n",
    "    if quiz == result:\n",
    "        print('통과!')\n",
    "        n += 1\n",
    "        quiz = random.choice(word)\n",
    "    else:\n",
    "        print('오타! 다시 도전')\n",
    "print('5문제 완료!!')"
   ]
  },
  {
   "cell_type": "code",
   "execution_count": 62,
   "id": "5b911a4f-515e-4a72-acc1-f770bf06d28f",
   "metadata": {},
   "outputs": [],
   "source": [
    "# 저장\n",
    "import json,pickle"
   ]
  },
  {
   "cell_type": "code",
   "execution_count": 70,
   "id": "9d309ba8-374f-41ba-92fc-d0fab436619d",
   "metadata": {},
   "outputs": [],
   "source": [
    "f = open('word.json','w')\n",
    "json.dump(word,f)\n",
    "f.close()"
   ]
  },
  {
   "cell_type": "code",
   "execution_count": 71,
   "id": "cf190742-6906-438b-8934-bf46ee8539b9",
   "metadata": {
    "tags": []
   },
   "outputs": [],
   "source": [
    "f = open('word.json','r')\n",
    "word_1 = json.load(f)\n",
    "f.close()"
   ]
  },
  {
   "cell_type": "code",
   "execution_count": 72,
   "id": "4c5879b5-c5d6-412e-92eb-f74d0694fe0e",
   "metadata": {},
   "outputs": [
    {
     "data": {
      "text/plain": [
       "['cat', 'dog', '강아지', '고양이']"
      ]
     },
     "execution_count": 72,
     "metadata": {},
     "output_type": "execute_result"
    }
   ],
   "source": [
    "word_1"
   ]
  },
  {
   "cell_type": "code",
   "execution_count": 73,
   "id": "bac22618-ca9d-4ea1-9116-60ad10684b54",
   "metadata": {},
   "outputs": [],
   "source": [
    "f = open('word.pickle','wb')\n",
    "pickle.dump(word,f)\n",
    "f.close()"
   ]
  },
  {
   "cell_type": "code",
   "execution_count": 75,
   "id": "25fc542c-6cb3-4d81-8280-eb161fad8afd",
   "metadata": {},
   "outputs": [],
   "source": [
    "f = open('word.pickle','rb')\n",
    "word_2 = pickle.load(f)\n",
    "f.close()"
   ]
  },
  {
   "cell_type": "code",
   "execution_count": 76,
   "id": "2518f800-82a4-4b8e-87d7-ec2b5a4911b9",
   "metadata": {},
   "outputs": [
    {
     "data": {
      "text/plain": [
       "['cat', 'dog', '강아지', '고양이']"
      ]
     },
     "execution_count": 76,
     "metadata": {},
     "output_type": "execute_result"
    }
   ],
   "source": [
    "word_2"
   ]
  },
  {
   "cell_type": "code",
   "execution_count": 78,
   "id": "a162bdb5-d004-4b62-a0fb-e4d9a1856e5b",
   "metadata": {},
   "outputs": [],
   "source": [
    "import time"
   ]
  },
  {
   "cell_type": "code",
   "execution_count": 79,
   "id": "246ca709-0a79-45c3-b549-7447308e9b18",
   "metadata": {},
   "outputs": [
    {
     "data": {
      "text/plain": [
       "1656385042.370446"
      ]
     },
     "execution_count": 79,
     "metadata": {},
     "output_type": "execute_result"
    }
   ],
   "source": [
    "time.time()"
   ]
  },
  {
   "cell_type": "code",
   "execution_count": 2,
   "id": "afe44c50-800c-4e71-9fe2-86bacb979337",
   "metadata": {},
   "outputs": [
    {
     "data": {
      "text/plain": [
       "['효진', '희은']"
      ]
     },
     "execution_count": 2,
     "metadata": {},
     "output_type": "execute_result"
    }
   ],
   "source": [
    "rank = {'희은': 9.58095121383667, '효진': 11.260358095169067}\n",
    "sorted(rank)"
   ]
  },
  {
   "cell_type": "code",
   "execution_count": 3,
   "id": "c83736df-f2fa-44d8-9969-b2b13d0d302f",
   "metadata": {},
   "outputs": [
    {
     "data": {
      "text/plain": [
       "dict_items([('희은', 9.58095121383667), ('효진', 11.260358095169067)])"
      ]
     },
     "execution_count": 3,
     "metadata": {},
     "output_type": "execute_result"
    }
   ],
   "source": [
    "rank.items()"
   ]
  },
  {
   "cell_type": "code",
   "execution_count": null,
   "id": "3cc14194-e5a2-4b0e-a8b2-864db7b40f57",
   "metadata": {},
   "outputs": [],
   "source": [
    "sorted(rank.items(),key = lambda x : x[1])"
   ]
  },
  {
   "cell_type": "code",
   "execution_count": 3,
   "id": "c42c53dd-1149-4fbb-8e93-32f75a006ff3",
   "metadata": {},
   "outputs": [
    {
     "name": "stdin",
     "output_type": "stream",
     "text": [
      "\n",
      "-----------------------------------------------------------\n",
      "1. 게임   2. 문제추가   3. 문제저장   4. 등수리스트   5. 종료\n",
      "-----------------------------------------------------------\n",
      ">>>  4\n"
     ]
    },
    {
     "name": "stdout",
     "output_type": "stream",
     "text": [
      "등수리스트\n",
      "1등 희은 시간: 10\n",
      "2등 효진 시간: 11\n"
     ]
    },
    {
     "name": "stdin",
     "output_type": "stream",
     "text": [
      "\n",
      "-----------------------------------------------------------\n",
      "1. 게임   2. 문제추가   3. 문제저장   4. 등수리스트   5. 종료\n",
      "-----------------------------------------------------------\n",
      ">>>  5\n"
     ]
    },
    {
     "name": "stdout",
     "output_type": "stream",
     "text": [
      "프로그램종료!\n"
     ]
    }
   ],
   "source": [
    "import json\n",
    "f = open('word.json','r')\n",
    "word = json.load(f)\n",
    "f.close()\n",
    "rank = {'희은': 9.58095121383667, '효진': 11.260358095169067}\n",
    "\n",
    "menu_display = '''\n",
    "-----------------------------------------------------------\n",
    "1. 게임   2. 문제추가   3. 문제저장   4. 등수리스트   5. 종료\n",
    "-----------------------------------------------------------\n",
    ">>> '''\n",
    "\n",
    "while True:\n",
    "    menu = input(menu_display)\n",
    "    if menu == '1':\n",
    "        print('게임시작!')\n",
    "        start = time.time()\n",
    "        n = 1\n",
    "        quiz = random.choice(word)\n",
    "        while n <= 5:\n",
    "            print(f'{n}번')\n",
    "            print(quiz)\n",
    "            result = input('>>>')\n",
    "            if quiz == result:\n",
    "                print('통과!')\n",
    "                n += 1\n",
    "                quiz = random.choice(word)\n",
    "            else:\n",
    "                print('오타! 다시 도전')\n",
    "        print('5문제 완료!!')\n",
    "        end = time.time()\n",
    "        print(f'걸린 시간: {end-start:.0f}초')\n",
    "        name = input('이름을 입력하세요 >>>')\n",
    "        rank[name] = end-start\n",
    "        print(rank)\n",
    "        \n",
    "    elif menu == '2':\n",
    "        print('문제추가작업')\n",
    "        while True:\n",
    "            data = input('(종료: enter) >>>')\n",
    "            if data == '':\n",
    "                break\n",
    "            word.append(data)\n",
    "            print(word)\n",
    "    elif menu == '3':\n",
    "        print('문제저장작업')\n",
    "    elif menu == '4':\n",
    "        print('등수리스트')\n",
    "        for index,(k,v) in enumerate(sorted(rank.items(),key = lambda x : x[1])):\n",
    "            print(f'{index + 1}등 {k} 시간: {v:.0f}')\n",
    "    elif menu == '5':\n",
    "        print('프로그램종료!')\n",
    "        f = open('word.json','w')\n",
    "        json.dump(word,f)\n",
    "        f.close()\n",
    "        break\n",
    "    else:\n",
    "        print('메뉴를 잘못 선택하셨습니다.')"
   ]
  },
  {
   "cell_type": "raw",
   "id": "0fcee64d-f9a3-4d0e-a698-341361de3208",
   "metadata": {},
   "source": [
    "# 커피자판기\n",
    "1. 커피자판기 2. 메뉴추가 3. 메뉴삭제 4. 메뉴목록 5. 종료\n",
    "- 프로그램이 시작될 때 필요한 정보를 읽어서 시작합니다\n",
    "- 커피자판기: 무한반복하면서 돈을 입력받아 메뉴를 선택해서 처리\n",
    "- 메뉴추가: 자판가에서 판매하는 메뉴를 추가하는 기능(메뉴명, 가격)\n",
    "- 메뉴삭제: 전체 목록을 보여주고 삭제하고자 하는 항목을 선택하도록 해서 삭제 처리\n",
    "- 메뉴목록: 메뉴이름순, 메뉴가격순으로 정렬하여 출력\n",
    "- 종료: 저장할 정보가 있으면 저장하고 종료"
   ]
  },
  {
   "cell_type": "code",
   "execution_count": null,
   "id": "e642c9aa-d3cb-4732-895a-04ddb66f203b",
   "metadata": {},
   "outputs": [],
   "source": [
    "# 내 풀이\n",
    "menu_display = '''\n",
    "---------------------------------------------------------------\n",
    "1. 커피자판기   2. 메뉴추가   3. 메뉴삭제   4. 메뉴목록   5. 종료\n",
    "---------------------------------------------------------------\n",
    ">>> '''\n",
    "\n",
    "menu_list = {'아메리카노': 1500, '아이스티': 3500, '초코라떼': 4000}\n",
    "\n",
    "while True:\n",
    "    menu = input(menu_display)\n",
    "    if menu == '1':\n",
    "        print('커피자판기!')\n",
    "    elif menu == '2':\n",
    "        print('메뉴추가')\n",
    "        while True:\n",
    "            name = input('메뉴이름 >>>')\n",
    "            price = input('메뉴가격 >>>')\n",
    "            if name in menu_list.keys():\n",
    "                print('메뉴가 존재합니다')\n",
    "            else:\n",
    "                print('메뉴를 추가합니다')\n",
    "            menu_list[name] = price\n",
    "    elif menu == '3':\n",
    "        print('메뉴삭제')\n",
    "    elif menu == '4':\n",
    "        print('메뉴목록')\n",
    "        print(menu_list)\n",
    "    elif menu == '5':\n",
    "        print('종료!')\n",
    "        break"
   ]
  },
  {
   "cell_type": "code",
   "execution_count": 3,
   "id": "ed4b92ef-3ee7-411c-be32-d3321321a6d7",
   "metadata": {},
   "outputs": [
    {
     "name": "stdin",
     "output_type": "stream",
     "text": [
      "\n",
      "---------------------------------------------------------------\n",
      "1. 커피자판기   2. 메뉴추가   3. 메뉴삭제   4. 메뉴목록   5. 종료\n",
      "---------------------------------------------------------------\n",
      ">>>  5\n"
     ]
    }
   ],
   "source": [
    "# 쌤 풀이\n",
    "item = {'아메리카노': 1500, '아이스티': 3500, '초코라떼': 4000}\n",
    "menu_display = '''\n",
    "---------------------------------------------------------------\n",
    "1. 커피자판기   2. 메뉴추가   3. 메뉴삭제   4. 메뉴목록   5. 종료\n",
    "---------------------------------------------------------------\n",
    ">>> '''\n",
    "\n",
    "while True:\n",
    "    menu = input(menu_display)\n",
    "    if menu == '1':\n",
    "        choice = '선택한 메뉴'\n",
    "        while choice:\n",
    "            for k,v in item.items():\n",
    "                print(f'{k}: {v:,}원 ', end = ' ')\n",
    "            print()\n",
    "            choice = input('(종료: enter)메뉴선택 >>>')\n",
    "            money = int(input('금액 투입 >>>'))\n",
    "            if choice in item.keys():\n",
    "                if money >= item[choice]:\n",
    "                    money -= item[choice]\n",
    "                    print(f'{choice} 서비스합니다 거스름돈은 {money}원~')\n",
    "            else:\n",
    "                print('해당 메뉴가 없습니다')\n",
    "    elif menu == '2':\n",
    "        menu_name = input('메뉴이름 >>>')\n",
    "        menu_price = ''\n",
    "        while not menu_price.isdigit():\n",
    "            menu_price = input('메뉴가격 >>>')\n",
    "        menu_price = int(menu_price)\n",
    "        \n",
    "        if menu_name in item.keys():\n",
    "            print(f'{menu_name} 메뉴가 있습니다')\n",
    "        else:\n",
    "            print(f'{menu_name} 메뉴를 추가합니다')\n",
    "        item[menu_name] = menu_price\n",
    "        print(item)\n",
    "    elif menu == '3':\n",
    "        menu_name = input('삭제하려는 메뉴이름 >>>')\n",
    "        if menu_name in item.keys():\n",
    "            print(f'{item.pop(menu_name)} 메뉴를 삭제합니다')\n",
    "            del item[menu_name]\n",
    "        else:\n",
    "            print(f'{menu_name} 메뉴가 없습니다')\n",
    "        print(item)\n",
    "    elif menu == '4':\n",
    "        menu_1 = input('1. 이름순 2. 가격순 >>>')\n",
    "        if menu_1 == '1':\n",
    "            for k,v in sorted(item.items(),key = lambda x : x[0]):\n",
    "                print(f'{k:>25} : {v:10,}원')\n",
    "        elif menu_1 == '2':\n",
    "            for k,v in sorted(item.items(),key = lambda x : x[0]):\n",
    "                print(f'{k:>25} : {v:10,}원')\n",
    "    elif menu == '5':\n",
    "        break"
   ]
  }
 ],
 "metadata": {
  "kernelspec": {
   "display_name": "Python 3 (ipykernel)",
   "language": "python",
   "name": "python3"
  },
  "language_info": {
   "codemirror_mode": {
    "name": "ipython",
    "version": 3
   },
   "file_extension": ".py",
   "mimetype": "text/x-python",
   "name": "python",
   "nbconvert_exporter": "python",
   "pygments_lexer": "ipython3",
   "version": "3.9.12"
  }
 },
 "nbformat": 4,
 "nbformat_minor": 5
}
