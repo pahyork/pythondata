{
 "cells": [
  {
   "cell_type": "code",
   "execution_count": 1,
   "id": "a58c5753-e3ae-4129-abf5-bbdf91cbbcdc",
   "metadata": {},
   "outputs": [
    {
     "data": {
      "text/plain": [
       "[1, 2, 3, 2, 4, 4, 5, 6, 4, 2, 1, 1, 1, 1]"
      ]
     },
     "execution_count": 1,
     "metadata": {},
     "output_type": "execute_result"
    }
   ],
   "source": [
    "a = [1,2,3,2,4,4,5,6,4,2,1,1,1,1]\n",
    "a"
   ]
  },
  {
   "cell_type": "code",
   "execution_count": 2,
   "id": "f91161ed-df1a-4d81-9638-56da29843f7a",
   "metadata": {},
   "outputs": [
    {
     "data": {
      "text/plain": [
       "{1, 2, 3, 4, 5, 6}"
      ]
     },
     "execution_count": 2,
     "metadata": {},
     "output_type": "execute_result"
    }
   ],
   "source": [
    "set(a)\n",
    "# 중복데이터 안됨"
   ]
  },
  {
   "cell_type": "code",
   "execution_count": 6,
   "id": "21f83803-6aec-4f56-b187-5600d3530849",
   "metadata": {},
   "outputs": [],
   "source": [
    "def add(a,b):\n",
    "    return a/b"
   ]
  },
  {
   "cell_type": "code",
   "execution_count": 7,
   "id": "4a6dd274-9e59-44b2-b7cc-d12fc9c32cf7",
   "metadata": {},
   "outputs": [
    {
     "data": {
      "text/plain": [
       "2.0"
      ]
     },
     "execution_count": 7,
     "metadata": {},
     "output_type": "execute_result"
    }
   ],
   "source": [
    "add(b=1,a=2)"
   ]
  },
  {
   "cell_type": "code",
   "execution_count": 8,
   "id": "64b2aa43-7fe1-4788-9865-f9c116cdedf4",
   "metadata": {},
   "outputs": [],
   "source": [
    "def add2(a=1,b=1):\n",
    "    return a/b"
   ]
  },
  {
   "cell_type": "code",
   "execution_count": 9,
   "id": "6457ee60-4a62-430c-88a4-8ba617333fc2",
   "metadata": {},
   "outputs": [
    {
     "data": {
      "text/plain": [
       "1.0"
      ]
     },
     "execution_count": 9,
     "metadata": {},
     "output_type": "execute_result"
    }
   ],
   "source": [
    "add2()"
   ]
  },
  {
   "cell_type": "code",
   "execution_count": 10,
   "id": "f660bcd0-8e28-4753-b43b-38c520a5ecb8",
   "metadata": {},
   "outputs": [],
   "source": [
    "def add_many(*args):\n",
    "    result = 0\n",
    "    for i in args:\n",
    "        result = result + i\n",
    "    return result"
   ]
  },
  {
   "cell_type": "code",
   "execution_count": 11,
   "id": "e7c497ab-2ffb-4200-a716-4e208cd00978",
   "metadata": {},
   "outputs": [
    {
     "data": {
      "text/plain": [
       "55"
      ]
     },
     "execution_count": 11,
     "metadata": {},
     "output_type": "execute_result"
    }
   ],
   "source": [
    "add_many(1,2,3,4,5,6,7,8,9,10)"
   ]
  },
  {
   "cell_type": "code",
   "execution_count": 14,
   "id": "7aed9750-e999-4733-9eac-92cc383cc610",
   "metadata": {},
   "outputs": [],
   "source": [
    "def add_mul(choice,*args):\n",
    "    if choice == \"add\":\n",
    "        result = 0\n",
    "        for i in args:\n",
    "            result = result + i\n",
    "    elif choice == \"mul\":\n",
    "        result = 1\n",
    "        for i in args:\n",
    "            result = result * i\n",
    "    return result"
   ]
  },
  {
   "cell_type": "code",
   "execution_count": 17,
   "id": "1919d841-3e65-44af-bc89-0b26a9b4c8b2",
   "metadata": {},
   "outputs": [
    {
     "data": {
      "text/plain": [
       "15"
      ]
     },
     "execution_count": 17,
     "metadata": {},
     "output_type": "execute_result"
    }
   ],
   "source": [
    "add_mul('add',1,2,3,4,5)"
   ]
  },
  {
   "cell_type": "markdown",
   "id": "aa246590-6e7e-423c-a73b-794d24199c22",
   "metadata": {},
   "source": [
    "# 정규표현식"
   ]
  },
  {
   "cell_type": "code",
   "execution_count": 18,
   "id": "ef2ba0ec-5486-4a82-b7b1-ea3939b788c7",
   "metadata": {},
   "outputs": [],
   "source": [
    "import re"
   ]
  },
  {
   "cell_type": "code",
   "execution_count": 32,
   "id": "1c42a1ef-7c3e-49a5-afbd-08a9599be768",
   "metadata": {},
   "outputs": [],
   "source": [
    "p = re.compile('[a-z]+')\n",
    "m = p.match('Python1python')\n",
    "m"
   ]
  },
  {
   "cell_type": "raw",
   "id": "9de88478-80fd-4cc4-bd8c-040560e13164",
   "metadata": {},
   "source": [
    "p = re.compile('[a-z]+')\n",
    "s = p.search('Python1python')\n",
    "s"
   ]
  },
  {
   "cell_type": "code",
   "execution_count": 28,
   "id": "b1fc9eea-00ee-4462-bdd3-ddf63722804f",
   "metadata": {},
   "outputs": [
    {
     "data": {
      "text/plain": [
       "['life', 'is', 'too', 'short']"
      ]
     },
     "execution_count": 28,
     "metadata": {},
     "output_type": "execute_result"
    }
   ],
   "source": [
    "result = p.findall(\"life is too short\")\n",
    "result"
   ]
  },
  {
   "cell_type": "code",
   "execution_count": 33,
   "id": "5de0bcc7-741d-4dd7-84b3-c50b47a1354b",
   "metadata": {},
   "outputs": [],
   "source": [
    "# p = re.compile('[a-z][a-z0-9]{4,}@[a-z]{2,}[.](kr|com|org|net)$')\n",
    "# email = input('이메일>>>')\n",
    "# result = p.match(email)\n",
    "# result"
   ]
  },
  {
   "cell_type": "code",
   "execution_count": 43,
   "id": "4d44eb24-7888-449f-9cbf-3bd42090a05c",
   "metadata": {},
   "outputs": [
    {
     "name": "stdin",
     "output_type": "stream",
     "text": [
      "\n",
      "    다음 중에서 하실 일을 골라주세요 :\n",
      "    I - 고객 정보 입력\n",
      "    C - 현재 고객 정보 조회\n",
      "    P - 이전 고객 정보 조회\n",
      "    N - 다음 고객 정보 조회\n",
      "    U - 고객 정보 수정\n",
      "    D - 고객 정보 삭제\n",
      "    Q - 프로그램 종료\n",
      "     ㅑ\n",
      "\n",
      "    다음 중에서 하실 일을 골라주세요 :\n",
      "    I - 고객 정보 입력\n",
      "    C - 현재 고객 정보 조회\n",
      "    P - 이전 고객 정보 조회\n",
      "    N - 다음 고객 정보 조회\n",
      "    U - 고객 정보 수정\n",
      "    D - 고객 정보 삭제\n",
      "    Q - 프로그램 종료\n",
      "     I\n",
      "고객의 이름을 입력하세요 >>> 박효진\n",
      "고객의 성별을 입력하세요 >>> f\n",
      "고객의 이메일을 입력하세요 >>> asdfg@naver.com\n",
      "고객의 출생년도를 입력하세요 >>> 199888\n",
      "출생년도를 재입력해 주세요 >>> 1997\n"
     ]
    },
    {
     "name": "stdout",
     "output_type": "stream",
     "text": [
      "[{'name': '박효진', 'gender': 'F', 'email': 'asdfg@naver.com', 'birthyear': '1997'}]\n"
     ]
    },
    {
     "name": "stdin",
     "output_type": "stream",
     "text": [
      "\n",
      "    다음 중에서 하실 일을 골라주세요 :\n",
      "    I - 고객 정보 입력\n",
      "    C - 현재 고객 정보 조회\n",
      "    P - 이전 고객 정보 조회\n",
      "    N - 다음 고객 정보 조회\n",
      "    U - 고객 정보 수정\n",
      "    D - 고객 정보 삭제\n",
      "    Q - 프로그램 종료\n",
      "     Q\n"
     ]
    }
   ],
   "source": [
    "# 내 풀이\n",
    "import re\n",
    "custlist=[]\n",
    "page=-1\n",
    " \n",
    "while True:\n",
    "    choice=input('''\n",
    "    다음 중에서 하실 일을 골라주세요 :\n",
    "    I - 고객 정보 입력\n",
    "    C - 현재 고객 정보 조회\n",
    "    P - 이전 고객 정보 조회\n",
    "    N - 다음 고객 정보 조회\n",
    "    U - 고객 정보 수정\n",
    "    D - 고객 정보 삭제\n",
    "    Q - 프로그램 종료\n",
    "    ''')\n",
    "\n",
    "    customer = {}\n",
    "\n",
    "    if choice==\"I\":  \n",
    "        \n",
    "        resName = input('고객의 이름을 입력하세요 >>>')\n",
    "\n",
    "        gender = input('고객의 성별을 입력하세요 >>>')\n",
    "        p = re.compile('[a-zA-z]')\n",
    "        resGender = p.match(gender.upper())\n",
    "\n",
    "        email = input('고객의 이메일을 입력하세요 >>>')\n",
    "        p = re.compile('[a-z][a-z0-9]{4,}@[a-z]{2,}[.](com|kr|net|org)')\n",
    "        resEmail = p.match(email)\n",
    "        if resEmail.find('@') >= 0:\n",
    "            email = input('고객의 이메일을 입력하세요('@' 포함해 주세요) >>>')\n",
    "            p = re.compile('[a-z][a-z0-9]{4,}@[a-z]{2,}[.](com|kr|net|org)$')\n",
    "            resEmail = p.match(email)\n",
    "\n",
    "        resBirthyear = input('고객의 출생년도를 입력하세요 >>>')\n",
    "        if len(resBirthyear) != 4:\n",
    "            resBirthyear = input('출생년도를 재입력해 주세요 >>>')\n",
    "            \n",
    "        customer['name'] = resName\n",
    "        customer['gender'] = resGender.group()\n",
    "        customer['email'] = resEmail.group()\n",
    "        customer['birthyear'] = resBirthyear\n",
    "\n",
    "        custlist.append(customer)\n",
    "\n",
    "        page += 1\n",
    "\n",
    "        print(custlist)\n",
    "    elif choice==\"C\": \n",
    "        pass\n",
    "    elif choice == 'P':\n",
    "        pass\n",
    "    elif choice == 'N':\n",
    "        pass\n",
    "    elif choice=='D':\n",
    "        pass\n",
    "    elif choice==\"U\": \n",
    "        pass\n",
    "    elif choice==\"Q\":\n",
    "        break"
   ]
  },
  {
   "cell_type": "code",
   "execution_count": null,
   "id": "691e8d2d-c09a-4b5f-b4b8-967e62460f22",
   "metadata": {},
   "outputs": [],
   "source": []
  }
 ],
 "metadata": {
  "kernelspec": {
   "display_name": "Python 3 (ipykernel)",
   "language": "python",
   "name": "python3"
  },
  "language_info": {
   "codemirror_mode": {
    "name": "ipython",
    "version": 3
   },
   "file_extension": ".py",
   "mimetype": "text/x-python",
   "name": "python",
   "nbconvert_exporter": "python",
   "pygments_lexer": "ipython3",
   "version": "3.9.12"
  }
 },
 "nbformat": 4,
 "nbformat_minor": 5
}
